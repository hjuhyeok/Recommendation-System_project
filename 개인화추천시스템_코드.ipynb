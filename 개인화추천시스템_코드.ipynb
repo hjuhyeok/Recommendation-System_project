{
 "cells": [
  {
   "cell_type": "markdown",
   "source": [
    "## FM ver5 구현\n",
    "### - 변수 추가 : user_id + item_id + location + author + age + year\n",
    "### - optimizer : adam optimizer\n",
    "### - 최종 예측 값 보정 : 1 보다 작은 값, 10 보다 큰 값 보정"
   ],
   "metadata": {
    "collapsed": false
   },
   "id": "e925cebc4d79d354"
  },
  {
   "cell_type": "markdown",
   "source": [
    "### 1. 데이터셋 로드 "
   ],
   "metadata": {
    "collapsed": false
   },
   "id": "9a9ab414d3e3ade2"
  },
  {
   "cell_type": "code",
   "execution_count": 179,
   "outputs": [],
   "source": [
    "import numpy as np\n",
    "import pandas as pd\n",
    "from sklearn.utils import shuffle\n",
    "\n",
    "u_cols = ['user_id', 'location', 'age']\n",
    "users = pd.read_csv('..\\\\0. dataset\\\\BX-Users.csv', encoding='latin-1')\n",
    "users.columns = u_cols\n",
    "\n",
    "i_cols = ['item_id', 'title' ,'author','year', 'publisher', 'img_s', 'img_m', 'img_l']\n",
    "items = pd.read_csv('..\\\\0. dataset\\\\BX-Books.csv', encoding='latin-1')\n",
    "items.columns = i_cols\n",
    "items = items[['item_id', 'title' ,'author','year', 'publisher']]\n",
    "\n",
    "r_cols = ['user_id', 'item_id', 'rating']\n",
    "ratings = pd.read_csv('..\\\\0. dataset\\\\BX-Book-Ratings.csv', encoding='latin-1')\n",
    "ratings.columns = r_cols"
   ],
   "metadata": {
    "collapsed": false,
    "ExecuteTime": {
     "end_time": "2023-12-18T11:11:11.329969800Z",
     "start_time": "2023-12-18T11:11:11.021363800Z"
    }
   },
   "id": "a8e9ffb3bd915b96"
  },
  {
   "cell_type": "markdown",
   "source": [
    "### 2. 기본적인 전처리 수행\n",
    "#### - 평점 0 제거, 연속형 변수 re-scaling"
   ],
   "metadata": {
    "collapsed": false
   },
   "id": "8376cdc6747e28ba"
  },
  {
   "cell_type": "code",
   "execution_count": 180,
   "outputs": [],
   "source": [
    "# 사용자가 평가한 아이템 평점 데이터에서 평점이 0인 데이터 제거\n",
    "ratings = ratings.drop(ratings[ratings['rating'] == 0].index)\n",
    "\n",
    "# 'age' 열의 값을 50으로 나누어 re-scaling\n",
    "users['age'] = users['age'] / 50\n",
    "\n",
    "# 'year' 열의 값을 1990으로 나누어 re-scaling\n",
    "items['year'] = items['year'] / 1990\n",
    "\n",
    "# DataFrame을 병합\n",
    "ratings = pd.merge(ratings, items, how='inner', on='item_id')\n",
    "ratings = pd.merge(ratings, users, how='inner', on='user_id')\n",
    "\n",
    "# 'ratings' DataFrame의 행을 무작위로 섞음\n",
    "ratings = shuffle(ratings)"
   ],
   "metadata": {
    "collapsed": false,
    "ExecuteTime": {
     "end_time": "2023-12-18T11:11:11.411920900Z",
     "start_time": "2023-12-18T11:11:11.327909Z"
    }
   },
   "id": "9206d7ee9a09b163"
  },
  {
   "cell_type": "markdown",
   "source": [
    "### 3. 변수 및 데이터셋 인코딩"
   ],
   "metadata": {
    "collapsed": false
   },
   "id": "d264c6c2820dbce8"
  },
  {
   "cell_type": "code",
   "execution_count": 181,
   "outputs": [
    {
     "name": "stdout",
     "output_type": "stream",
     "text": [
      "Encoding  0  cases...\n",
      "Encoding  10000  cases...\n",
      "Encoding  20000  cases...\n",
      "Encoding  30000  cases...\n"
     ]
    }
   ],
   "source": [
    "# User encoding\n",
    "user_dict = {}\n",
    "for i in set(ratings['user_id']):\n",
    "    user_dict[i] = len(user_dict)\n",
    "n_user = len(user_dict)\n",
    "\n",
    "# Item encoding\n",
    "item_dict = {}\n",
    "start_point = n_user\n",
    "for i in set(ratings['item_id']):\n",
    "    item_dict[i] = start_point + len(item_dict)\n",
    "n_item = len(item_dict)\n",
    "start_point += n_item\n",
    "\n",
    "# Location encoding\n",
    "location_dict = {}\n",
    "for i in set(ratings['location']):\n",
    "    location_dict[i] = start_point + len(location_dict)\n",
    "n_location = len(location_dict)\n",
    "start_point += n_location\n",
    "\n",
    "# Author encoding\n",
    "author_dict = {}\n",
    "for i in set(ratings['author']):\n",
    "    author_dict[i] = start_point + len(author_dict)\n",
    "n_author = len(author_dict)\n",
    "start_point += n_author\n",
    "\n",
    "age_index = start_point\n",
    "start_point += 1\n",
    "\n",
    "year_index = start_point\n",
    "start_point += 1\n",
    "\n",
    "num_x = start_point               # Total number of x\n",
    "\n",
    "# Generate X data                                   \n",
    "# sparse matrix 로 변환하는 작업\n",
    "x = []\n",
    "y = []\n",
    "w0 = np.mean(ratings['rating'])\n",
    "for i in range(len(ratings)):\n",
    "    case = ratings.iloc[i]                        \n",
    "    x_index = []\n",
    "    x_value = []\n",
    "    x_index.append(user_dict[case['user_id']])    # User id encoding. 해당 user id의 일력번호를 가져옴\n",
    "    x_value.append(1)\n",
    "    x_index.append(item_dict[case['item_id']])    # item id encoding. 해당 item id의 일력번호를 가져옴\n",
    "    x_value.append(1)\n",
    "    x_index.append(location_dict[case['location']])\n",
    "    x_value.append(1)\n",
    "    x_index.append(author_dict[case['author']])\n",
    "    x_value.append(1)\n",
    "    x_index.append(age_index)\n",
    "    x_value.append(case['age'])\n",
    "    x_index.append(year_index)\n",
    "    x_value.append(case['year'])\n",
    "    x.append([x_index, x_value])\n",
    "    y.append(case['rating'] - w0)\n",
    "    if (i % 10000) == 0:\n",
    "        print('Encoding ', i, ' cases...')"
   ],
   "metadata": {
    "collapsed": false,
    "ExecuteTime": {
     "end_time": "2023-12-18T11:11:14.392027300Z",
     "start_time": "2023-12-18T11:11:11.502803500Z"
    }
   },
   "id": "b24efa4993494a1e"
  },
  {
   "cell_type": "markdown",
   "source": [
    "### 3. FM 클래스 정의"
   ],
   "metadata": {
    "collapsed": false
   },
   "id": "67e3cc06ec478f6"
  },
  {
   "cell_type": "code",
   "execution_count": 182,
   "outputs": [],
   "source": [
    "# RMSE (Root Mean Square Error) 계산 함수\n",
    "def RMSE(y_true, y_pred):\n",
    "    return np.sqrt(np.mean((np.array(y_true) - np.array(y_pred)) ** 2))\n",
    "\n",
    "# Factorization Machine Class\n",
    "class FM():\n",
    "    #  초기화 함수\n",
    "    def __init__(self, N, K, train_x, test_x, train_y, test_y, alpha=0.001, beta1=0.9, beta2=0.999, beta=0.01, epsilon=1e-8,\n",
    "                 iterations=100, tolerance=0.005, l2_reg=True, verbose=True):\n",
    "        self.K = K                      # Number of latent factors\n",
    "        self.N = N                      # Number of x (variables)\n",
    "        self.alpha = alpha              # 학습률\n",
    "        self.beta = beta                # L2 정규화 항\n",
    "        self.iterations = iterations    # 반복 횟수\n",
    "        self.l2_reg = l2_reg            # L2 정규화 사용 여부\n",
    "        self.tolerance = tolerance      # 조기 종료를 위한 허용 오차 범위\n",
    "        self.verbose = verbose          # 진행 상황 출력 여부\n",
    "\n",
    "        self.beta1 = beta1              # 모멘텀 감쇠율\n",
    "        self.beta2 = beta2              # 스케일 조정된 경사 제곱의 감쇠율\n",
    "        self.epsilon = epsilon          # 수치 안정성을 위한 작은 상수\n",
    "\n",
    "        # Adam 매개변수 초기화\n",
    "        self.m_w, self.v_w = None, None  # w에 대한 모멘텀과 스케일 조정된 경사 제곱\n",
    "        self.m_v, self.v_v = None, None  # v에 대한 모멘텀과 스케일 조정된 경사 제곱\n",
    "\n",
    "        # w 초기화\n",
    "        self.w = np.random.normal(scale=1. / self.N, size=(self.N))\n",
    "        # v 초기화\n",
    "        self.v = np.random.normal(scale=1. / self.K, size=(self.N, self.K))\n",
    "\n",
    "        self.train_x, self.test_x, self.train_y, self.test_y = train_x, test_x, train_y, test_y\n",
    "\n",
    "    def test(self):  # Training 하면서 RMSE 계산\n",
    "        # ADAM을 iterations 숫자만큼 수행\n",
    "        best_RMSE = 10000\n",
    "        training_process = []\n",
    "        for i in range(self.iterations):\n",
    "            rmse1 = self.adam(self.train_x, self.train_y)  # ADAM & Train RMSE 계산\n",
    "            rmse2 = self.test_rmse(self.test_x, self.test_y)  # Test RMSE 계산\n",
    "            training_process.append((i, rmse1, rmse2))\n",
    "            if self.verbose:\n",
    "                if (i+1) % 10 == 0:\n",
    "                    print(\"\\tIteration: %d ; Train RMSE = %.6f ; Test RMSE = %.6f\" % (i + 1, rmse1, rmse2))\n",
    "            if best_RMSE > rmse2:  # New best record\n",
    "                best_RMSE = rmse2\n",
    "            elif (rmse2 - best_RMSE) > self.tolerance:  # RMSE is increasing over tolerance\n",
    "                break\n",
    "\n",
    "        return best_RMSE\n",
    "\n",
    "    # w, v 업데이트를 위한 adam optimizer\n",
    "    def adam(self, x_data, y_data):\n",
    "        y_pred = []\n",
    "        for data, y in zip(x_data, y_data):\n",
    "            x_idx = data[0]\n",
    "            x_0 = np.array(data[1])\n",
    "            x_1 = x_0.reshape(-1, 1)\n",
    "\n",
    "            # 기존 코드와 동일한 방식으로 점수 계산\n",
    "            bias_score = np.sum(self.w[x_idx] * x_0)\n",
    "            vx = self.v[x_idx] * x_1\n",
    "            sum_vx = np.sum(vx, axis=0)\n",
    "            sum_vx_2 = np.sum(vx * vx, axis=0)\n",
    "            latent_score = 0.5 * np.sum(np.square(sum_vx) - sum_vx_2)\n",
    "            y_hat = bias_score + latent_score\n",
    "            y_pred.append(y_hat)\n",
    "\n",
    "            error = y - y_hat\n",
    "            # Adam 업데이트 부분\n",
    "            # 1. 경사 계산\n",
    "            grad_w = error * x_0 - self.beta * self.w[x_idx] if self.l2_reg else error * x_0\n",
    "            grad_v = error * ((x_1) * sum_vx - (vx * x_1)) - self.beta * self.v[x_idx] if self.l2_reg else error * (\n",
    "                        (x_1) * sum_vx - (vx * x_1))\n",
    "\n",
    "            # 2. m, v의 초기화\n",
    "            if self.m_w is None:\n",
    "                self.m_w, self.v_w = np.zeros_like(self.w), np.zeros_like(self.w)\n",
    "                self.m_v, self.v_v = np.zeros_like(self.v), np.zeros_like(self.v)\n",
    "\n",
    "            # 3. 모멘텀과 스케일 조정된 경사 제곱 업데이트\n",
    "            self.m_w[x_idx] = self.beta1 * self.m_w[x_idx] + (1 - self.beta1) * grad_w\n",
    "            self.m_v[x_idx] = self.beta1 * self.m_v[x_idx] + (1 - self.beta1) * grad_v\n",
    "            self.v_w[x_idx] = self.beta2 * self.v_w[x_idx] + (1 - self.beta2) * np.square(grad_w)\n",
    "            self.v_v[x_idx] = self.beta2 * self.v_v[x_idx] + (1 - self.beta2) * np.square(grad_v)\n",
    "\n",
    "            # 4. 편향 보정된 매개변수 업데이트\n",
    "            m_w_hat = self.m_w[x_idx] / (1 - self.beta1)\n",
    "            m_v_hat = self.m_v[x_idx] / (1 - self.beta1)\n",
    "            v_w_hat = self.v_w[x_idx] / (1 - self.beta2)\n",
    "            v_v_hat = self.v_v[x_idx] / (1 - self.beta2)\n",
    "            self.w[x_idx] += self.alpha * m_w_hat / (np.sqrt(v_w_hat) + self.epsilon)\n",
    "            self.v[x_idx] += self.alpha * m_v_hat / (np.sqrt(v_v_hat) + self.epsilon)\n",
    "        return RMSE(y_data, y_pred)\n",
    "\n",
    "    def test_rmse(self, x_data, y_data):\n",
    "        y_pred = []\n",
    "        for data, y in zip(x_data, y_data):\n",
    "            y_hat = self.predict(data[0], data[1])\n",
    "            \n",
    "            # y_hat에 전역 바이어스 w0 추가\n",
    "            y_hat += w0\n",
    "            \n",
    "            # 예측값이 특정 범위(1에서 10)를 벗어나지 않도록 조정\n",
    "            if y_hat > 10:\n",
    "                y_hat = 10\n",
    "            elif y_hat < 1:\n",
    "                y_hat = 1\n",
    "            \n",
    "            # 조정된 예측값을 리스트에 추가    \n",
    "            y_pred.append(y_hat)\n",
    "        \n",
    "        # 실제 데이터에 w0를 더한 값과 예측값 사이의 RMSE 계산 및 반환\n",
    "        return RMSE(y_data + w0, y_pred)\n",
    "\n",
    "    def predict(self, idx, x):\n",
    "        x_0 = np.array(x)\n",
    "        x_1 = x_0.reshape(-1, 1)\n",
    "\n",
    "        # biases\n",
    "        bias_score = np.sum(self.w[idx] * x_0)\n",
    "\n",
    "        # score 계산\n",
    "        vx = self.v[idx] * (x_1)\n",
    "        sum_vx = np.sum(vx, axis=0)\n",
    "        sum_vx_2 = np.sum(vx * vx, axis=0)\n",
    "        latent_score = 0.5 * np.sum(np.square(sum_vx) - sum_vx_2)\n",
    "\n",
    "        # 예측값 계산\n",
    "        y_hat = bias_score + latent_score\n",
    "        return y_hat"
   ],
   "metadata": {
    "collapsed": false,
    "ExecuteTime": {
     "end_time": "2023-12-18T11:11:14.424217900Z",
     "start_time": "2023-12-18T11:11:14.409360200Z"
    }
   },
   "id": "1db01d58272d0bea"
  },
  {
   "cell_type": "markdown",
   "source": [
    "### 4. 모형 학습 및 평가\n",
    "#### - test/train set을 교체하며 3회 측정하여 평균  "
   ],
   "metadata": {
    "collapsed": false
   },
   "id": "f020fa329c1acca4"
  },
  {
   "cell_type": "code",
   "execution_count": 183,
   "outputs": [
    {
     "name": "stdout",
     "output_type": "stream",
     "text": [
      "< trial #1 >\n",
      "\tIteration: 10 ; Train RMSE = 1.508000 ; Test RMSE = 1.654558\n",
      "\tIteration: 20 ; Train RMSE = 1.351205 ; Test RMSE = 1.627063\n",
      "\tIteration: 30 ; Train RMSE = 1.254879 ; Test RMSE = 1.621441\n",
      "\n",
      "\tbest_RMSE = 1.621314389440082\n",
      "\n",
      "< trial #2 >\n",
      "\tIteration: 10 ; Train RMSE = 1.490769 ; Test RMSE = 1.668639\n",
      "\tIteration: 20 ; Train RMSE = 1.330293 ; Test RMSE = 1.647355\n",
      "\n",
      "\tbest_RMSE = 1.64528545899976\n",
      "\n",
      "< trial #3 >\n",
      "\tIteration: 10 ; Train RMSE = 1.501257 ; Test RMSE = 1.652465\n",
      "\tIteration: 20 ; Train RMSE = 1.344153 ; Test RMSE = 1.629122\n",
      "\tIteration: 30 ; Train RMSE = 1.248543 ; Test RMSE = 1.625073\n",
      "\n",
      "\tbest_RMSE = 1.6250731716717834\n",
      "\n",
      "\n",
      "********************* final results *********************\n",
      "\n",
      "RMSE 1 : 1.621314389440082\n",
      "RMSE 2 : 1.64528545899976\n",
      "RMSE 3 : 1.6250731716717834\n",
      "average RMSE : 1.6305576733705418\n"
     ]
    }
   ],
   "source": [
    "K = 350             # 모델 하이퍼파라미터 설정\n",
    "results = []        # 결과를 저장할 리스트\n",
    "\n",
    "n = len(x)          # 데이터의 전체 길이\n",
    "fold_size = n // 3  # 각 폴드의 크기\n",
    "\n",
    "# 3회의 실험 진행 (데이터를 3등분하여 2:1의 비율로 train/test set 을 번갈아가며 적용)\n",
    "for i in range(3):\n",
    "    print(f'< trial #{i+1} >')\n",
    "\n",
    "    # 테스트 세트의 시작과 끝 인덱스 계산\n",
    "    start_index = i * fold_size\n",
    "    end_index = start_index + fold_size if i < 2 else n\n",
    "\n",
    "    # 훈련 및 테스트 데이터 생성\n",
    "    test_x = x[start_index:end_index]\n",
    "    test_y = y[start_index:end_index]\n",
    "    train_x = x[:start_index] + x[end_index:]\n",
    "    train_y = y[:start_index] + y[end_index:]\n",
    "\n",
    "    # FM 모델 초기화 및 파라미터 설정\n",
    "    fm1 = FM(num_x, K, train_x, test_x, train_y, test_y, alpha=0.00005, beta=0.0075, beta1=0.75, beta2=0.95, iterations=900, tolerance=0.0001, l2_reg=True, verbose=True)\n",
    "    \n",
    "    # 모델 테스트 및 결과 저장\n",
    "    result = fm1.test()\n",
    "    results.append(result)\n",
    "    \n",
    "    print()\n",
    "    print(f'\\tbest_RMSE = {result}')\n",
    "    print() \n",
    "\n",
    "# 각 실험의 RMSE 결과 출력\n",
    "print()\n",
    "print('********************* final results *********************')\n",
    "print()\n",
    "for i in range(len(results)):\n",
    "    print(f'RMSE {i+1} : {results[i]}')\n",
    "\n",
    "# 평균 RMSE 계산 및 출력\n",
    "print(f'average RMSE : {np.mean(results)}')"
   ],
   "metadata": {
    "collapsed": false,
    "ExecuteTime": {
     "end_time": "2023-12-18T11:19:00.779684100Z",
     "start_time": "2023-12-18T11:11:14.428359100Z"
    }
   },
   "id": "7a113d0d4c61f979"
  },
  {
   "cell_type": "code",
   "execution_count": null,
   "outputs": [],
   "source": [],
   "metadata": {
    "collapsed": false
   },
   "id": "a6e71133f8246436"
  }
 ],
 "metadata": {
  "kernelspec": {
   "display_name": "Python 3",
   "language": "python",
   "name": "python3"
  },
  "language_info": {
   "codemirror_mode": {
    "name": "ipython",
    "version": 2
   },
   "file_extension": ".py",
   "mimetype": "text/x-python",
   "name": "python",
   "nbconvert_exporter": "python",
   "pygments_lexer": "ipython2",
   "version": "2.7.6"
  }
 },
 "nbformat": 4,
 "nbformat_minor": 5
}
